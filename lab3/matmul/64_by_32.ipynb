{
 "cells": [
  {
   "cell_type": "code",
   "execution_count": 3,
   "id": "cccd467d-8a5e-432f-a7f4-3cab079d36d9",
   "metadata": {},
   "outputs": [
    {
     "name": "stdout",
     "output_type": "stream",
     "text": [
      "[[ 1.94185672  0.58439395  1.82070005 ...  0.75856366 -0.58081997\n",
      "   0.06108203]\n",
      " [-0.05887064 -0.72302156  0.16950105 ... -0.63643372 -1.70756645\n",
      "   0.34146115]\n",
      " [-0.4951254   0.67214277 -1.42918513 ...  1.59202475  0.19861817\n",
      "  -2.34284939]\n",
      " ...\n",
      " [ 1.82447123  0.72107906  1.01846435 ...  0.30432148 -0.53891576\n",
      "   0.68898613]\n",
      " [ 0.97074016 -0.82350172  0.05683322 ...  0.01142124  0.33021576\n",
      "  -0.08956944]\n",
      " [-0.878511    1.45275676 -0.26687805 ... -2.46402368 -0.53013796\n",
      "   0.73105818]]\n"
     ]
    }
   ],
   "source": [
    "import numpy as np\n",
    "\n",
    "# Generate a 64x32 array of random floats (of type float64)\n",
    "matrix_a = np.random.randn(64, 32).astype(np.float64)\n",
    "\n",
    "# Print the array\n",
    "print(matrix_a)"
   ]
  },
  {
   "cell_type": "code",
   "execution_count": 4,
   "id": "c6deec43-35ce-4de0-8121-735c6925f291",
   "metadata": {},
   "outputs": [
    {
     "name": "stdout",
     "output_type": "stream",
     "text": [
      "[[ 0.64329245 -0.17652166 -0.26308146 ... -1.13965069  1.35550771\n",
      "   0.89909217]\n",
      " [ 0.31660497 -0.01755558  0.0442193  ... -0.1695147   0.14973697\n",
      "  -0.52901311]\n",
      " [ 0.50656026  0.35990713 -0.81446959 ...  1.66481047  0.33570701\n",
      "  -0.7975498 ]\n",
      " ...\n",
      " [-0.64939709  0.984311    0.32668785 ... -1.75818883  1.22380364\n",
      "   2.59298616]\n",
      " [-0.19939291  0.37112461  0.79992644 ... -0.87289173 -1.57079967\n",
      "   0.90262085]\n",
      " [ 0.26116398 -0.36086176  0.53857103 ...  1.35711735  1.77910257\n",
      "   1.15629051]]\n"
     ]
    }
   ],
   "source": [
    "# Generate a 64x32 array of random floats (of type float64)\n",
    "matrix_b = np.random.randn(64, 32).astype(np.float64)\n",
    "\n",
    "# Print the array\n",
    "print(matrix_b)"
   ]
  },
  {
   "cell_type": "code",
   "execution_count": 5,
   "id": "903f9871-d0b2-4c96-9601-9aacfd3c20a0",
   "metadata": {},
   "outputs": [],
   "source": [
    "## need to calculate!\n",
    "n = 6\n",
    "M0 = 1249445032\n",
    "Zout = 201.0\n",
    "N = 32"
   ]
  },
  {
   "cell_type": "code",
   "execution_count": 6,
   "id": "4e176c0c-cee6-4f6f-acb2-030eb8f58156",
   "metadata": {},
   "outputs": [],
   "source": [
    "## need to calculate!\n",
    "S_a = 0.0333333333\n",
    "S_b = 0.0176470588\n",
    "S_out = 0.0647058824"
   ]
  },
  {
   "cell_type": "code",
   "execution_count": 7,
   "id": "5a06992e-0b71-45dd-afb9-df2005ec21e5",
   "metadata": {},
   "outputs": [],
   "source": [
    "## need to calculate!\n",
    "Za = 135.0\n",
    "Zb = 0.0"
   ]
  },
  {
   "cell_type": "code",
   "execution_count": 8,
   "id": "7f9a1c58-3c3a-44bf-94a2-475db5cbc488",
   "metadata": {},
   "outputs": [
    {
     "name": "stdout",
     "output_type": "stream",
     "text": [
      "[[0. 0. 0. 0.]\n",
      " [0. 0. 0. 0.]\n",
      " [0. 0. 0. 0.]\n",
      " [0. 0. 0. 0.]]\n"
     ]
    }
   ],
   "source": [
    "out = np.zeros((4, 4), dtype=np.float64)\n",
    "print(out)"
   ]
  },
  {
   "cell_type": "code",
   "execution_count": 9,
   "id": "4fa6638a-6c37-4491-b5e5-01f352485e29",
   "metadata": {},
   "outputs": [],
   "source": [
    "for i in range (0,4):\n",
    "    for j in range(0,4):\n",
    "        for k in range(0,4):\n",
    "            out[i,j] += matrix_a[i,k]*matrix_b[k,j]"
   ]
  },
  {
   "cell_type": "code",
   "execution_count": 10,
   "id": "3fbcd23a-111e-4e00-bc57-b250bc55b641",
   "metadata": {},
   "outputs": [
    {
     "name": "stdout",
     "output_type": "stream",
     "text": [
      "[[  1.5   1.   -4.5  -5. ]\n",
      " [  3.5   3.  -12.5 -13. ]\n",
      " [ -9.5 -10.  -10.5 -11. ]\n",
      " [  2.5   2.   -8.5  -9. ]]\n"
     ]
    }
   ],
   "source": [
    "print(out)"
   ]
  },
  {
   "cell_type": "code",
   "execution_count": 11,
   "id": "2ae87c84-a153-4ca2-9a38-3b4cd7961033",
   "metadata": {},
   "outputs": [
    {
     "name": "stdout",
     "output_type": "stream",
     "text": [
      "[[135. 120. 165.  90.]\n",
      " [195.  60. 225.  30.]\n",
      " [255.   0. 135. 120.]\n",
      " [165.  90. 195.  60.]]\n"
     ]
    }
   ],
   "source": [
    "## quantize matrix A first\n",
    "for i in range (0,4):\n",
    "    for j in range(0,4):\n",
    "        matrix_a[i,j] = round((matrix_a[i,j])/(S_a)) + Za\n",
    "        \n",
    "print(matrix_a)"
   ]
  },
  {
   "cell_type": "code",
   "execution_count": 12,
   "id": "9de7bcb9-4986-4bd8-93b3-a0f1c501498c",
   "metadata": {},
   "outputs": [
    {
     "name": "stdout",
     "output_type": "stream",
     "text": [
      "[[  0.  28.  57.  85.]\n",
      " [113. 142. 170. 198.]\n",
      " [227. 255.   0.  28.]\n",
      " [ 57.  85. 113. 142.]]\n"
     ]
    }
   ],
   "source": [
    "## quantize matrix B next\n",
    "for i in range (0,4):\n",
    "    for j in range(0,4):\n",
    "        matrix_b[i,j] = round((matrix_b[i,j])/(S_b)) + Zb\n",
    "        \n",
    "print(matrix_b)"
   ]
  },
  {
   "cell_type": "code",
   "execution_count": 13,
   "id": "f20da1fc-aaaa-4d07-ae26-8bbc82ee386e",
   "metadata": {},
   "outputs": [
    {
     "name": "stdout",
     "output_type": "stream",
     "text": [
      "[[135 120 165  90]\n",
      " [195  60 225  30]\n",
      " [255   0 135 120]\n",
      " [165  90 195  60]]\n",
      "[[  0  28  57  85]\n",
      " [113 142 170 198]\n",
      " [227 255   0  28]\n",
      " [ 57  85 113 142]]\n"
     ]
    }
   ],
   "source": [
    "# cast the quantized versions to correct version\n",
    "matrix_a_uint8 = matrix_a.astype(np.uint8)\n",
    "matrix_b_uint8 = matrix_b.astype(np.uint8)\n",
    "\n",
    "print(matrix_a_uint8)\n",
    "print(matrix_b_uint8)"
   ]
  },
  {
   "cell_type": "code",
   "execution_count": 38,
   "id": "a2233134-35e4-49f3-9928-a290fd663fb2",
   "metadata": {},
   "outputs": [
    {
     "name": "stdout",
     "output_type": "stream",
     "text": [
      "[[0 0 0 0]\n",
      " [0 0 0 0]\n",
      " [0 0 0 0]\n",
      " [0 0 0 0]]\n"
     ]
    }
   ],
   "source": [
    "# float 64 calculations\n",
    "q_out = np.zeros((4, 4), dtype=np.int32)\n",
    "print(q_out)"
   ]
  },
  {
   "cell_type": "code",
   "execution_count": 39,
   "id": "ebfc1792-3323-48d4-b2aa-7115f1ccd5b8",
   "metadata": {},
   "outputs": [
    {
     "name": "stdout",
     "output_type": "stream",
     "text": [
      "[[  2550   1695  -7635  -8520]\n",
      " [  5970   5055 -21195 -22140]\n",
      " [-16110 -17085 -17805 -18660]\n",
      " [  4260   3375 -14415 -15330]]\n"
     ]
    }
   ],
   "source": [
    "for i in range (0,4):\n",
    "    for j in range(0,4):\n",
    "        for k in range(0,4):\n",
    "            q_out[i,j] += (matrix_a_uint8[i,k]-Za)*(matrix_b_uint8[k,j]-Zb)\n",
    "\n",
    "print(q_out)"
   ]
  },
  {
   "cell_type": "code",
   "execution_count": 49,
   "id": "b8cfdb12-e338-4de2-a8fe-9cb4d5e3c348",
   "metadata": {},
   "outputs": [
    {
     "name": "stdout",
     "output_type": "stream",
     "text": [
      "[[0 0 0 0]\n",
      " [0 0 0 0]\n",
      " [0 0 0 0]\n",
      " [0 0 0 0]]\n",
      "[[224 216 131 123]\n",
      " [255 246   8   0]\n",
      " [ 54  45  39  31]\n",
      " [239 231  69  61]]\n"
     ]
    }
   ],
   "source": [
    "# int 64 calculations\n",
    "q_out = np.zeros((4, 4), dtype=np.int64)\n",
    "print(q_out)\n",
    "\n",
    "for i in range (0,4):\n",
    "    for j in range(0,4):\n",
    "        for k in range(0,4):\n",
    "            q_out[i,j] += (matrix_a_uint8[i,k]-Za)*(matrix_b_uint8[k,j]-Zb)\n",
    "        q_out[i,j] *= M0\n",
    "        q_out[i,j] = q_out[i,j] >> (31 + (n-2))\n",
    "        q_out[i,j] += (Zout*4)\n",
    "        q_out[i,j] = q_out[i,j] >> 2\n",
    "        if(q_out[i,j] < 0)  :\n",
    "            q_out[i,j] = 0\n",
    "\n",
    "\n",
    "print(q_out)"
   ]
  },
  {
   "cell_type": "code",
   "execution_count": 50,
   "id": "0c0a70cd-3dfc-4b23-aa15-944a22ee5d8c",
   "metadata": {},
   "outputs": [
    {
     "name": "stdout",
     "output_type": "stream",
     "text": [
      "[[224 216 131 123]\n",
      " [255 246   8   0]\n",
      " [ 54  45  39  31]\n",
      " [239 231  69  61]]\n"
     ]
    }
   ],
   "source": [
    "q_out_uint8 = q_out.astype(np.uint8)\n",
    "\n",
    "print(q_out_uint8)"
   ]
  },
  {
   "cell_type": "code",
   "execution_count": 51,
   "id": "e8a16ab7-c940-4aa1-9259-c8dd452f6413",
   "metadata": {},
   "outputs": [
    {
     "name": "stdout",
     "output_type": "stream",
     "text": [
      "[[224. 216. 131. 123.]\n",
      " [255. 246.   8.   0.]\n",
      " [ 54.  45.  39.  31.]\n",
      " [239. 231.  69.  61.]]\n",
      "[[  1.4882353    0.97058824  -4.52941177  -5.04705883]\n",
      " [  3.49411765   2.91176471 -12.4882353  -13.00588236]\n",
      " [ -9.51176471 -10.09411765 -10.48235295 -11.00000001]\n",
      " [  2.45882353   1.94117647  -8.54117648  -9.05882354]]\n"
     ]
    }
   ],
   "source": [
    "# int 64 calculations to dequantize output again\n",
    "r_out = q_out.astype(np.float64)\n",
    "print(r_out)\n",
    "\n",
    "#make real again\n",
    "for i in range (0,4):\n",
    "    for j in range(0,4):\n",
    "        r_out[i,j] = (r_out[i,j] - Zout)*S_out\n",
    "        \n",
    "print(r_out)"
   ]
  },
  {
   "cell_type": "code",
   "execution_count": null,
   "id": "fc493ea4-313a-44da-96ae-b7f7cf351a91",
   "metadata": {},
   "outputs": [],
   "source": []
  }
 ],
 "metadata": {
  "kernelspec": {
   "display_name": "Python 3",
   "language": "python",
   "name": "python3"
  },
  "language_info": {
   "codemirror_mode": {
    "name": "ipython",
    "version": 3
   },
   "file_extension": ".py",
   "mimetype": "text/x-python",
   "name": "python",
   "nbconvert_exporter": "python",
   "pygments_lexer": "ipython3",
   "version": "3.8.8"
  }
 },
 "nbformat": 4,
 "nbformat_minor": 5
}
