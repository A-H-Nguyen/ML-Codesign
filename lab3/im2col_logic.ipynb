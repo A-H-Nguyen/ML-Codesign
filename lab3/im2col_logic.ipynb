{
 "cells": [
  {
   "cell_type": "code",
   "execution_count": 94,
   "id": "341eca1a-72fa-4a54-902b-99e571aed2ce",
   "metadata": {},
   "outputs": [],
   "source": [
    "import numpy as np\n",
    "\n",
    "src_m = 4\n",
    "src_n = 4\n",
    "kernel_size_n = 3\n",
    "kernel_size_m = 3\n",
    "src_c = 3"
   ]
  },
  {
   "cell_type": "code",
   "execution_count": 95,
   "id": "46d8bb67-10f0-45e1-b956-8f249ac0e9e7",
   "metadata": {},
   "outputs": [
    {
     "name": "stdout",
     "output_type": "stream",
     "text": [
      "[0, 1, 2, 3, 4, 5, 6, 7, 8, 9, 0, 1, 2, 3, 4, 5, 6, 7, 8, 9, 0, 1, 2, 3, 4, 5, 6, 7, 8, 9, 0, 1, 2, 3, 4, 5, 6, 7, 8, 9, 0, 1, 2, 3, 4, 5, 6, 7]\n"
     ]
    }
   ],
   "source": [
    "\n",
    "vector_a  = []\n",
    "for i in range (0,src_m*src_n*src_c) : \n",
    "    vector_a.append(i%10)\n",
    "    \n",
    "print(vector_a)"
   ]
  },
  {
   "cell_type": "code",
   "execution_count": 104,
   "id": "0c3c0c5e-9d4e-48b4-90fb-7d6dce04f4bc",
   "metadata": {},
   "outputs": [
    {
     "name": "stdout",
     "output_type": "stream",
     "text": [
      "\n",
      "Array 1\n",
      "\n",
      "0123\n",
      "4567\n",
      "8901\n",
      "2345\n",
      "\n",
      "Array 2\n",
      "\n",
      "6789\n",
      "0123\n",
      "4567\n",
      "8901\n",
      "\n",
      "Array 3\n",
      "\n",
      "2345\n",
      "6789\n",
      "0123\n",
      "4567\n"
     ]
    }
   ],
   "source": [
    "# print matrix\n",
    "for i in range (0,src_c) : \n",
    "    print(\"\\nArray \" + str(i+1))\n",
    "    line = \"\"\n",
    "    for j in range (0,src_n*src_m) : \n",
    "        if((j % src_n == 0)) : \n",
    "            print(line)\n",
    "            line = \"\"\n",
    "        line += str(vector_a[j + i*src_m*src_n])\n",
    "    print(line)\n",
    "        \n",
    "       \n",
    "            "
   ]
  },
  {
   "cell_type": "code",
   "execution_count": 97,
   "id": "bf46d916-1669-46ba-838f-e5d2d3c37d2b",
   "metadata": {},
   "outputs": [
    {
     "name": "stdout",
     "output_type": "stream",
     "text": [
      "1\n",
      "1\n"
     ]
    }
   ],
   "source": [
    "padding_m = int((kernel_size_m - 1)/2)\n",
    "padding_n = int((kernel_size_n - 1)/2)\n",
    "print(padding_m)\n",
    "print(padding_n)"
   ]
  },
  {
   "cell_type": "code",
   "execution_count": 98,
   "id": "f25c839b-7d8f-449d-a33f-1567d90bf72c",
   "metadata": {},
   "outputs": [
    {
     "name": "stdout",
     "output_type": "stream",
     "text": [
      "6\n",
      "6\n",
      "[0, 0, 0, 0, 0, 0, 0, 0, 1, 2, 3, 0, 0, 4, 5, 6, 7, 0, 0, 8, 9, 0, 1, 0, 0, 2, 3, 4, 5, 0, 0, 0, 0, 0, 0, 0, 0, 0, 0, 0, 0, 0, 0, 6, 7, 8, 9, 0, 0, 0, 1, 2, 3, 0, 0, 4, 5, 6, 7, 0, 0, 8, 9, 0, 1, 0, 0, 0, 0, 0, 0, 0, 0, 0, 0, 0, 0, 0, 0, 2, 3, 4, 5, 0, 0, 6, 7, 8, 9, 0, 0, 0, 1, 2, 3, 0, 0, 4, 5, 6, 7, 0, 0, 0, 0, 0, 0, 0]\n"
     ]
    }
   ],
   "source": [
    "new_vector = []\n",
    "new_vector_m = src_m + 2*padding_m\n",
    "new_vector_n = src_n + 2*padding_n\n",
    "\n",
    "print(new_vector_m)\n",
    "print(new_vector_n)\n",
    "\n",
    "start = 0\n",
    "\n",
    "for k in range(0,src_c) : \n",
    "    start = k*src_m*src_n\n",
    "    for j in range (0,padding_n) : \n",
    "        for i in range (0,new_vector_n) : \n",
    "            new_vector.append(0)\n",
    "\n",
    "    for j in range (0,src_m) : \n",
    "        for i in range (0,padding_m) : \n",
    "            new_vector.append(0)\n",
    "        for i in range (0,src_n) : \n",
    "            new_vector.append(vector_a[start + j*src_n + i])\n",
    "        for i in range (0,padding_m) : \n",
    "            new_vector.append(0)\n",
    "\n",
    "    for j in range (0,padding_n) : \n",
    "        for i in range (0,new_vector_n) : \n",
    "            new_vector.append(0)        \n",
    "            \n",
    "print(new_vector)"
   ]
  },
  {
   "cell_type": "code",
   "execution_count": 99,
   "id": "7a72d9fc-1049-4c8e-a8a3-ab78730038e9",
   "metadata": {},
   "outputs": [
    {
     "name": "stdout",
     "output_type": "stream",
     "text": [
      "\n",
      "Array 0\n",
      "\n",
      "000000\n",
      "001230\n",
      "045670\n",
      "089010\n",
      "023450\n",
      "000000\n",
      "\n",
      "Array 1\n",
      "\n",
      "000000\n",
      "067890\n",
      "001230\n",
      "045670\n",
      "089010\n",
      "000000\n",
      "\n",
      "Array 2\n",
      "\n",
      "000000\n",
      "023450\n",
      "067890\n",
      "001230\n",
      "045670\n",
      "000000\n"
     ]
    }
   ],
   "source": [
    "# print matrix\n",
    "for i in range (0,src_c) : \n",
    "    print(\"\\nArray \" + str(i))\n",
    "    line = \"\"\n",
    "    for j in range (0,new_vector_n*new_vector_m) : \n",
    "        if((j % new_vector_n == 0)) : \n",
    "            print(line)\n",
    "            line = \"\"\n",
    "        line += str(new_vector[j + i*new_vector_m*new_vector_n])\n",
    "    print(line)"
   ]
  },
  {
   "cell_type": "code",
   "execution_count": 100,
   "id": "3a0ec78c-3893-459d-96b0-eae2f834a473",
   "metadata": {},
   "outputs": [
    {
     "name": "stdout",
     "output_type": "stream",
     "text": [
      "[0, 0, 0, 0, 0, 1, 0, 4, 5, 0, 0, 0, 0, 6, 7, 0, 0, 1, 0, 0, 0, 0, 2, 3, 0, 6, 7, 0, 0, 0, 0, 1, 2, 4, 5, 6, 0, 0, 0, 6, 7, 8, 0, 1, 2, 0, 0, 0, 2, 3, 4, 6, 7, 8, 0, 0, 0, 1, 2, 3, 5, 6, 7, 0, 0, 0, 7, 8, 9, 1, 2, 3, 0, 0, 0, 3, 4, 5, 7, 8, 9, 0, 0, 0, 2, 3, 0, 6, 7, 0, 0, 0, 0, 8, 9, 0, 2, 3, 0, 0, 0, 0, 4, 5, 0, 8, 9, 0, 0, 0, 1, 0, 4, 5, 0, 8, 9, 0, 6, 7, 0, 0, 1, 0, 4, 5, 0, 2, 3, 0, 6, 7, 0, 0, 1, 0, 1, 2, 4, 5, 6, 8, 9, 0, 6, 7, 8, 0, 1, 2, 4, 5, 6, 2, 3, 4, 6, 7, 8, 0, 1, 2, 1, 2, 3, 5, 6, 7, 9, 0, 1, 7, 8, 9, 1, 2, 3, 5, 6, 7, 3, 4, 5, 7, 8, 9, 1, 2, 3, 2, 3, 0, 6, 7, 0, 0, 1, 0, 8, 9, 0, 2, 3, 0, 6, 7, 0, 4, 5, 0, 8, 9, 0, 2, 3, 0, 0, 4, 5, 0, 8, 9, 0, 2, 3, 0, 0, 1, 0, 4, 5, 0, 8, 9, 0, 6, 7, 0, 0, 1, 0, 4, 5, 4, 5, 6, 8, 9, 0, 2, 3, 4, 0, 1, 2, 4, 5, 6, 8, 9, 0, 6, 7, 8, 0, 1, 2, 4, 5, 6, 5, 6, 7, 9, 0, 1, 3, 4, 5, 1, 2, 3, 5, 6, 7, 9, 0, 1, 7, 8, 9, 1, 2, 3, 5, 6, 7, 6, 7, 0, 0, 1, 0, 4, 5, 0, 2, 3, 0, 6, 7, 0, 0, 1, 0, 8, 9, 0, 2, 3, 0, 6, 7, 0, 0, 8, 9, 0, 2, 3, 0, 0, 0, 0, 4, 5, 0, 8, 9, 0, 0, 0, 0, 0, 1, 0, 4, 5, 0, 0, 0, 8, 9, 0, 2, 3, 4, 0, 0, 0, 4, 5, 6, 8, 9, 0, 0, 0, 0, 0, 1, 2, 4, 5, 6, 0, 0, 0, 9, 0, 1, 3, 4, 5, 0, 0, 0, 5, 6, 7, 9, 0, 1, 0, 0, 0, 1, 2, 3, 5, 6, 7, 0, 0, 0, 0, 1, 0, 4, 5, 0, 0, 0, 0, 6, 7, 0, 0, 1, 0, 0, 0, 0, 2, 3, 0, 6, 7, 0, 0, 0, 0]\n"
     ]
    }
   ],
   "source": [
    "# following block performs im2row\n",
    "sw_results = []\n",
    "# go per patch of each channel, add all into a singular column \n",
    "# for each patch across\n",
    "for i in range (0,new_vector_m - kernel_size_m + 1) : \n",
    "# for each patch down\n",
    "    for j in range (0,new_vector_n - kernel_size_n + 1) : \n",
    "    # for each channel\n",
    "        for k in range (0,src_c) :\n",
    "            start = i*new_vector_n + j + k*new_vector_m*new_vector_n\n",
    "            for l in range (0, kernel_size_m) : \n",
    "                for m in range (0,kernel_size_n) : \n",
    "                    sw_results.append(new_vector[start + l*new_vector_n + m])\n",
    "                    \n",
    "print(sw_results)"
   ]
  },
  {
   "cell_type": "code",
   "execution_count": 101,
   "id": "bf1a74b4-2895-4879-b9d9-f9394444227e",
   "metadata": {},
   "outputs": [
    {
     "name": "stdout",
     "output_type": "stream",
     "text": [
      "[0, 0, 0, 0, 0, 1, 0, 4, 5, 0, 0, 0, 0, 6, 7, 0, 0, 1, 0, 0, 0, 0, 2, 3, 0, 6, 7, 0, 0, 0, 0, 1, 2, 4, 5, 6, 0, 0, 0, 6, 7, 8, 0, 1, 2, 0, 0, 0, 2, 3, 4, 6, 7, 8, 0, 0, 0, 1, 2, 3, 5, 6, 7, 0, 0, 0, 7, 8, 9, 1, 2, 3, 0, 0, 0, 3, 4, 5, 7, 8, 9, 0, 0, 0, 2, 3, 0, 6, 7, 0, 0, 0, 0, 8, 9, 0, 2, 3, 0, 0, 0, 0, 4, 5, 0, 8, 9, 0, 0, 0, 1, 0, 4, 5, 0, 8, 9, 0, 6, 7, 0, 0, 1, 0, 4, 5, 0, 2, 3, 0, 6, 7, 0, 0, 1, 0, 1, 2, 4, 5, 6, 8, 9, 0, 6, 7, 8, 0, 1, 2, 4, 5, 6, 2, 3, 4, 6, 7, 8, 0, 1, 2, 1, 2, 3, 5, 6, 7, 9, 0, 1, 7, 8, 9, 1, 2, 3, 5, 6, 7, 3, 4, 5, 7, 8, 9, 1, 2, 3, 2, 3, 0, 6, 7, 0, 0, 1, 0, 8, 9, 0, 2, 3, 0, 6, 7, 0, 4, 5, 0, 8, 9, 0, 2, 3, 0, 0, 4, 5, 0, 8, 9, 0, 2, 3, 0, 0, 1, 0, 4, 5, 0, 8, 9, 0, 6, 7, 0, 0, 1, 0, 4, 5, 4, 5, 6, 8, 9, 0, 2, 3, 4, 0, 1, 2, 4, 5, 6, 8, 9, 0, 6, 7, 8, 0, 1, 2, 4, 5, 6, 5, 6, 7, 9, 0, 1, 3, 4, 5, 1, 2, 3, 5, 6, 7, 9, 0, 1, 7, 8, 9, 1, 2, 3, 5, 6, 7, 6, 7, 0, 0, 1, 0, 4, 5, 0, 2, 3, 0, 6, 7, 0, 0, 1, 0, 8, 9, 0, 2, 3, 0, 6, 7, 0, 0, 8, 9, 0, 2, 3, 0, 0, 0, 0, 4, 5, 0, 8, 9, 0, 0, 0, 0, 0, 1, 0, 4, 5, 0, 0, 0, 8, 9, 0, 2, 3, 4, 0, 0, 0, 4, 5, 6, 8, 9, 0, 0, 0, 0, 0, 1, 2, 4, 5, 6, 0, 0, 0, 9, 0, 1, 3, 4, 5, 0, 0, 0, 5, 6, 7, 9, 0, 1, 0, 0, 0, 1, 2, 3, 5, 6, 7, 0, 0, 0, 0, 1, 0, 4, 5, 0, 0, 0, 0, 6, 7, 0, 0, 1, 0, 0, 0, 0, 2, 3, 0, 6, 7, 0, 0, 0, 0]\n",
      "[0, 0, 0, 0, 0, 0, 1, 2, 0, 4, 5, 6, 0, 8, 9, 0, 0, 0, 0, 0, 0, 1, 2, 3, 4, 5, 6, 7, 8, 9, 0, 1, 0, 0, 0, 0, 1, 2, 3, 0, 5, 6, 7, 0, 9, 0, 1, 0, 0, 0, 1, 2, 0, 4, 5, 6, 0, 8, 9, 0, 0, 2, 3, 4, 0, 1, 2, 3, 4, 5, 6, 7, 8, 9, 0, 1, 2, 3, 4, 5, 1, 2, 3, 0, 5, 6, 7, 0, 9, 0, 1, 0, 3, 4, 5, 0, 0, 4, 5, 6, 0, 8, 9, 0, 0, 2, 3, 4, 0, 0, 0, 0, 4, 5, 6, 7, 8, 9, 0, 1, 2, 3, 4, 5, 0, 0, 0, 0, 5, 6, 7, 0, 9, 0, 1, 0, 3, 4, 5, 0, 0, 0, 0, 0, 0, 0, 0, 0, 0, 6, 7, 8, 0, 0, 1, 2, 0, 4, 5, 6, 0, 0, 0, 0, 6, 7, 8, 9, 0, 1, 2, 3, 4, 5, 6, 7, 0, 0, 0, 0, 7, 8, 9, 0, 1, 2, 3, 0, 5, 6, 7, 0, 0, 6, 7, 8, 0, 0, 1, 2, 0, 4, 5, 6, 0, 8, 9, 0, 6, 7, 8, 9, 0, 1, 2, 3, 4, 5, 6, 7, 8, 9, 0, 1, 7, 8, 9, 0, 1, 2, 3, 0, 5, 6, 7, 0, 9, 0, 1, 0, 0, 0, 1, 2, 0, 4, 5, 6, 0, 8, 9, 0, 0, 0, 0, 0, 0, 1, 2, 3, 4, 5, 6, 7, 8, 9, 0, 1, 0, 0, 0, 0, 1, 2, 3, 0, 5, 6, 7, 0, 9, 0, 1, 0, 0, 0, 0, 0, 0, 0, 0, 0, 0, 2, 3, 4, 0, 6, 7, 8, 0, 0, 1, 2, 0, 0, 0, 0, 2, 3, 4, 5, 6, 7, 8, 9, 0, 1, 2, 3, 0, 0, 0, 0, 3, 4, 5, 0, 7, 8, 9, 0, 1, 2, 3, 0, 0, 2, 3, 4, 0, 6, 7, 8, 0, 0, 1, 2, 0, 4, 5, 6, 2, 3, 4, 5, 6, 7, 8, 9, 0, 1, 2, 3, 4, 5, 6, 7, 3, 4, 5, 0, 7, 8, 9, 0, 1, 2, 3, 0, 5, 6, 7, 0, 0, 6, 7, 8, 0, 0, 1, 2, 0, 4, 5, 6, 0, 0, 0, 0, 6, 7, 8, 9, 0, 1, 2, 3, 4, 5, 6, 7, 0, 0, 0, 0, 7, 8, 9, 0, 1, 2, 3, 0, 5, 6, 7, 0, 0, 0, 0, 0]\n"
     ]
    }
   ],
   "source": [
    "# following block performs im2row and im2col\n",
    "sw_results = []\n",
    "sw_results_t = []\n",
    "# go per patch of each channel, add all into a singular column \n",
    "# for each patch across\n",
    "\n",
    "for i in range (0,src_m*src_n*kernel_size_m*kernel_size_n*src_c) : \n",
    "    sw_results_t.append(0)\n",
    "\n",
    "patch_num = 0\n",
    "for i in range (0,src_m) : \n",
    "# for each patch down\n",
    "    for j in range (0,src_n) : \n",
    "    # for each channel\n",
    "        for k in range (0,src_c) :\n",
    "            start = i*new_vector_n + j + k*new_vector_m*new_vector_n\n",
    "            for l in range (0, kernel_size_m) : \n",
    "                for m in range (0,kernel_size_n) : \n",
    "                    sw_results.append(new_vector[start + l*new_vector_n + m])\n",
    "                    col = patch_num\n",
    "                    row = k*kernel_size_m*kernel_size_n + l*kernel_size_n + m\n",
    "                    sw_results_t[col + row*src_m*src_n] = new_vector[start + l*new_vector_n + m]\n",
    "        patch_num += 1\n",
    "                    \n",
    "print(sw_results)\n",
    "print(sw_results_t)"
   ]
  },
  {
   "cell_type": "code",
   "execution_count": 103,
   "id": "86ba0b12-178a-4da9-9512-2249594a42c3",
   "metadata": {},
   "outputs": [
    {
     "name": "stdout",
     "output_type": "stream",
     "text": [
      "\n",
      "Array 1\n",
      "\n",
      "0000001204560890\n",
      "0000012345678901\n",
      "0000123056709010\n",
      "0012045608900234\n",
      "0123456789012345\n",
      "1230567090103450\n",
      "0456089002340000\n",
      "4567890123450000\n",
      "5670901034500000\n",
      "\n",
      "Array 2\n",
      "\n",
      "0000067800120456\n",
      "0000678901234567\n",
      "0000789012305670\n",
      "0678001204560890\n",
      "6789012345678901\n",
      "7890123056709010\n",
      "0012045608900000\n",
      "0123456789010000\n",
      "1230567090100000\n",
      "\n",
      "Array 3\n",
      "\n",
      "0000023406780012\n",
      "0000234567890123\n",
      "0000345078901230\n",
      "0234067800120456\n",
      "2345678901234567\n",
      "3450789012305670\n",
      "0678001204560000\n",
      "6789012345670000\n",
      "7890123056700000\n"
     ]
    }
   ],
   "source": [
    "# print matrix\n",
    "for i in range (0,src_c) : \n",
    "    print(\"\\nArray \" + str(i+1))\n",
    "    line = \"\"\n",
    "    for j in range (0,src_n*src_m*kernel_size_m*kernel_size_n) : \n",
    "        if((j % (src_n*src_m) == 0)) : \n",
    "            print(line)\n",
    "            line = \"\"\n",
    "        line += str(sw_results_t[j + i*src_m*src_n*kernel_size_m*kernel_size_n])\n",
    "    print(line)"
   ]
  },
  {
   "cell_type": "code",
   "execution_count": null,
   "id": "81ce68e1-d6af-4393-b431-b71f4a592121",
   "metadata": {},
   "outputs": [],
   "source": []
  }
 ],
 "metadata": {
  "kernelspec": {
   "display_name": "Python 3",
   "language": "python",
   "name": "python3"
  },
  "language_info": {
   "codemirror_mode": {
    "name": "ipython",
    "version": 3
   },
   "file_extension": ".py",
   "mimetype": "text/x-python",
   "name": "python",
   "nbconvert_exporter": "python",
   "pygments_lexer": "ipython3",
   "version": "3.8.8"
  }
 },
 "nbformat": 4,
 "nbformat_minor": 5
}
